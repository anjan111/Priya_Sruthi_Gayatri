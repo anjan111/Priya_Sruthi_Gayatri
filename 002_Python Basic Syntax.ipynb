{
 "cells": [
  {
   "cell_type": "markdown",
   "metadata": {},
   "source": [
    "===>>> Syntax\n",
    "\n",
    "******  The Structure for writing a program\n",
    "\n",
    "===>>> Program\n",
    "\n",
    "******  Collection of instriuctions/ statements to do any one specific task\n",
    "\n",
    "===>>> Instruction\n",
    "\n",
    "****** A line of code with in the program\n",
    "\n",
    "1. Statement  ---->> An Instruction which can be executable\n",
    "\n",
    "\n",
    "2. Comments  --->> An instructions which can't be executable\n",
    "\n",
    "******* Which are used for to give the brief explanation for each and eery statement with in the program\n",
    "\n"
   ]
  },
  {
   "cell_type": "code",
   "execution_count": 1,
   "metadata": {},
   "outputs": [
    {
     "name": "stdout",
     "output_type": "stream",
     "text": [
      "hello\n",
      "345\n"
     ]
    }
   ],
   "source": [
    "# single line comment\n",
    "'''\n",
    "Multiple\n",
    "\n",
    "line \n",
    "\n",
    "we can s stop the execution\n",
    "'''\n",
    "# statement examples\n",
    "print \"hello\"\n",
    "a = 345\n",
    "print a"
   ]
  },
  {
   "cell_type": "code",
   "execution_count": 2,
   "metadata": {},
   "outputs": [
    {
     "name": "stdout",
     "output_type": "stream",
     "text": [
      "['and', 'as', 'assert', 'break', 'class', 'continue', 'def', 'del', 'elif', 'else', 'except', 'exec', 'finally', 'for', 'from', 'global', 'if', 'import', 'in', 'is', 'lambda', 'not', 'or', 'pass', 'print', 'raise', 'return', 'try', 'while', 'with', 'yield']\n"
     ]
    }
   ],
   "source": [
    "# keywords\n",
    "'''\n",
    "===>> Predefined names\n",
    "===>> keyword headerline / Lib  --->> Modules & Package\n",
    "===>> import \n",
    "\n",
    "'''\n",
    "import keyword\n",
    "print keyword.kwlist"
   ]
  },
  {
   "cell_type": "code",
   "execution_count": 3,
   "metadata": {},
   "outputs": [
    {
     "name": "stdout",
     "output_type": "stream",
     "text": [
      "567\n",
      "67\n",
      "670\n",
      "56\n"
     ]
    }
   ],
   "source": [
    "# Identifier \n",
    "'''\n",
    "===>>> User Defined Words \n",
    "===>>> To Used for to give the names for variables, functions , classes\n",
    "\n",
    "'''\n",
    "# Rules\n",
    "'''\n",
    "==>>> we can use alphabets   a-z / A - Z\n",
    "==>>> we can use digits  0 - 9\n",
    "==>>> we can use underscore _\n",
    "==>>> don't start with digits\n",
    "==>>> don't use the keywords\n",
    "==>>> Don't use special character\n",
    "==>>>\n",
    "'''\n",
    "# variable\n",
    "'''\n",
    "===>>> we can give the reference name to the memory location\n",
    "===>>> variables are used for to hold the data\n",
    "===>>> In python , we can directly use without any declaration\n",
    "'''\n",
    "var = 567\n",
    "print var \n",
    "va5 =67\n",
    "print va5\n",
    "v_4 = 670\n",
    "print v_4\n",
    "_vr7= 56\n",
    "print _vr7"
   ]
  },
  {
   "cell_type": "code",
   "execution_count": 2,
   "metadata": {},
   "outputs": [
    {
     "ename": "SyntaxError",
     "evalue": "invalid syntax (<ipython-input-2-1e9a8fd16ab7>, line 1)",
     "output_type": "error",
     "traceback": [
      "\u001b[1;36m  File \u001b[1;32m\"<ipython-input-2-1e9a8fd16ab7>\"\u001b[1;36m, line \u001b[1;32m1\u001b[0m\n\u001b[1;33m    6_vr7= 56\u001b[0m\n\u001b[1;37m        ^\u001b[0m\n\u001b[1;31mSyntaxError\u001b[0m\u001b[1;31m:\u001b[0m invalid syntax\n"
     ]
    }
   ],
   "source": [
    "# Don't start with digit\n",
    "6_vr7= 56\n",
    "print 6_vr7"
   ]
  },
  {
   "cell_type": "code",
   "execution_count": 4,
   "metadata": {},
   "outputs": [
    {
     "ename": "SyntaxError",
     "evalue": "invalid syntax (<ipython-input-4-8e9b462d6d45>, line 1)",
     "output_type": "error",
     "traceback": [
      "\u001b[1;36m  File \u001b[1;32m\"<ipython-input-4-8e9b462d6d45>\"\u001b[1;36m, line \u001b[1;32m1\u001b[0m\n\u001b[1;33m    if = 678\u001b[0m\n\u001b[1;37m       ^\u001b[0m\n\u001b[1;31mSyntaxError\u001b[0m\u001b[1;31m:\u001b[0m invalid syntax\n"
     ]
    }
   ],
   "source": [
    "# don't use keyword\n",
    "if = 678\n",
    "print if"
   ]
  },
  {
   "cell_type": "code",
   "execution_count": 5,
   "metadata": {},
   "outputs": [
    {
     "ename": "SyntaxError",
     "evalue": "invalid syntax (<ipython-input-5-7aade325cce8>, line 1)",
     "output_type": "error",
     "traceback": [
      "\u001b[1;36m  File \u001b[1;32m\"<ipython-input-5-7aade325cce8>\"\u001b[1;36m, line \u001b[1;32m1\u001b[0m\n\u001b[1;33m    v@y = 123\u001b[0m\n\u001b[1;37m     ^\u001b[0m\n\u001b[1;31mSyntaxError\u001b[0m\u001b[1;31m:\u001b[0m invalid syntax\n"
     ]
    }
   ],
   "source": [
    "# don't use special characters\n",
    "v@y = 123\n",
    "print v@y"
   ]
  },
  {
   "cell_type": "code",
   "execution_count": null,
   "metadata": {},
   "outputs": [],
   "source": []
  }
 ],
 "metadata": {
  "kernelspec": {
   "display_name": "Python 2",
   "language": "python",
   "name": "python2"
  },
  "language_info": {
   "codemirror_mode": {
    "name": "ipython",
    "version": 2
   },
   "file_extension": ".py",
   "mimetype": "text/x-python",
   "name": "python",
   "nbconvert_exporter": "python",
   "pygments_lexer": "ipython2",
   "version": "2.7.16"
  }
 },
 "nbformat": 4,
 "nbformat_minor": 2
}
