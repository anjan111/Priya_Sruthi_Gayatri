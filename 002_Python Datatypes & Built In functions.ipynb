{
 "cells": [
  {
   "cell_type": "code",
   "execution_count": 1,
   "metadata": {},
   "outputs": [
    {
     "name": "stdout",
     "output_type": "stream",
     "text": [
      "<type 'int'>\n",
      "<type 'int'>\n",
      "<type 'int'>\n"
     ]
    }
   ],
   "source": [
    "# Datatypes\n",
    "'''\n",
    "==>>> Used for to specify the what type of data holded variable\n",
    "1. Fundamental Datatypes\n",
    "\n",
    "##########  A single variable can hold single data element\n",
    "a. int ---------->>>  numbers --> real number\n",
    "b. float--------->>>>  real / decimal pointing number\n",
    "c. complex------->>>>  real + img (  X + Yj)\n",
    "d. bool----------->>>>  True   / False\n",
    "e. Nonetype  ----->>>>   None\n",
    "\n",
    "2. Sequencial Datatypes\n",
    "##########  A single variable can hold multiple data elements\n",
    "a. str ---> collection of characters------> \"\"\n",
    "b. list---> Collection of data elements --> []\n",
    "c. tuple---> Collection of data elements--> ()\n",
    "d. set---> Collection of data elements----> {}\n",
    "f. dict---> Collection of data items------> {}\n",
    "\n",
    "'''\n",
    "# type()-->> to know the datatype of any variable\n",
    "# int \n",
    "var = -234\n",
    "print type(var)\n",
    "var = 0\n",
    "print type(var)\n",
    "var = 456\n",
    "print type(var)\n",
    "\n"
   ]
  },
  {
   "cell_type": "code",
   "execution_count": 2,
   "metadata": {},
   "outputs": [
    {
     "name": "stdout",
     "output_type": "stream",
     "text": [
      "<type 'float'>\n",
      "<type 'float'>\n",
      "<type 'float'>\n"
     ]
    }
   ],
   "source": [
    "# float\n",
    "var = -23.84\n",
    "print type(var)\n",
    "var = 0.0\n",
    "print type(var)\n",
    "var = 456.986\n",
    "print type(var)\n"
   ]
  },
  {
   "cell_type": "code",
   "execution_count": 3,
   "metadata": {},
   "outputs": [
    {
     "name": "stdout",
     "output_type": "stream",
     "text": [
      "<type 'complex'>\n",
      "<type 'int'>\n"
     ]
    }
   ],
   "source": [
    "var = 0 + 0j\n",
    "print type(var)\n",
    "var = 0 + 0\n",
    "print type(var)"
   ]
  },
  {
   "cell_type": "code",
   "execution_count": 4,
   "metadata": {},
   "outputs": [
    {
     "name": "stdout",
     "output_type": "stream",
     "text": [
      "<type 'complex'>\n",
      "<type 'complex'>\n",
      "<type 'complex'>\n",
      "<type 'complex'>\n"
     ]
    }
   ],
   "source": [
    "# complex\n",
    "var = 0 + 0j\n",
    "print type(var)\n",
    "var = 10 + 0j\n",
    "print type(var)\n",
    "var = 100 + 20j\n",
    "print type(var)\n",
    "var =  10j\n",
    "print type(var)"
   ]
  },
  {
   "cell_type": "code",
   "execution_count": 5,
   "metadata": {},
   "outputs": [
    {
     "name": "stdout",
     "output_type": "stream",
     "text": [
      "<type 'bool'>\n",
      "<type 'bool'>\n",
      "<type 'NoneType'>\n"
     ]
    }
   ],
   "source": [
    "# bool  \n",
    "var =  True\n",
    "print type(var)\n",
    "var =  False\n",
    "print type(var)\n",
    "\n",
    "# Nonetype\n",
    "var = None  # C/ C++  --->> NULL  \n",
    "print type(var)\n"
   ]
  },
  {
   "cell_type": "code",
   "execution_count": 1,
   "metadata": {},
   "outputs": [
    {
     "name": "stdout",
     "output_type": "stream",
     "text": [
      "<type 'str'>\n"
     ]
    }
   ],
   "source": [
    "# str\n",
    "var = \"Python\"\n",
    "print type(var)"
   ]
  },
  {
   "cell_type": "code",
   "execution_count": 2,
   "metadata": {},
   "outputs": [
    {
     "name": "stdout",
     "output_type": "stream",
     "text": [
      "<type 'list'>\n"
     ]
    }
   ],
   "source": [
    "# list\n",
    "var = [12 , 3.34 ,4+5j] \n",
    "print type(var)"
   ]
  },
  {
   "cell_type": "code",
   "execution_count": 3,
   "metadata": {},
   "outputs": [
    {
     "name": "stdout",
     "output_type": "stream",
     "text": [
      "<type 'tuple'>\n"
     ]
    }
   ],
   "source": [
    "# tuple\n",
    "var = (12,3.34 ,4+5j)\n",
    "print type(var)"
   ]
  },
  {
   "cell_type": "code",
   "execution_count": 4,
   "metadata": {},
   "outputs": [
    {
     "name": "stdout",
     "output_type": "stream",
     "text": [
      "<type 'set'>\n"
     ]
    }
   ],
   "source": [
    "# set  --> {}\n",
    "var = {12,3.34 ,4+5j}\n",
    "print type(var)"
   ]
  },
  {
   "cell_type": "code",
   "execution_count": 6,
   "metadata": {},
   "outputs": [
    {
     "name": "stdout",
     "output_type": "stream",
     "text": [
      "<type 'dict'>\n"
     ]
    }
   ],
   "source": [
    "# dict  ---> {item1, item2,item3}\n",
    "# item ---->  key  : value\n",
    "var = {34 : \"priya\" , 56 : \"Sruthi\" ,67 : \"anjan\"}\n",
    "print type(var)"
   ]
  },
  {
   "cell_type": "code",
   "execution_count": 1,
   "metadata": {},
   "outputs": [
    {
     "name": "stdout",
     "output_type": "stream",
     "text": [
      "hello\n",
      "234\n",
      "hello\n",
      "234\n"
     ]
    }
   ],
   "source": [
    "# Built - in functions\n",
    "###### Display data in screen \n",
    "#print ---> statement\n",
    "#print ---> function\n",
    "print \"hello\" # statement\n",
    "a = 234\n",
    "print a       # statement\n",
    "print(\"hello\") # function\n",
    "a = 234\n",
    "print(a)       # function"
   ]
  },
  {
   "cell_type": "code",
   "execution_count": 2,
   "metadata": {},
   "outputs": [
    {
     "name": "stdout",
     "output_type": "stream",
     "text": [
      "enter int with input :  123\n",
      "123\n",
      "<type 'int'>\n",
      "enter int  with raw_input : 123\n",
      "123\n",
      "<type 'str'>\n"
     ]
    }
   ],
   "source": [
    "# read the data from keyboard\n",
    "# input()\n",
    "# raw_input()\n",
    "# wap read int data by input & raw_input\n",
    "var = input(\"enter int with input :  \")\n",
    "print var\n",
    "print type(var) # daata type\n",
    "var = raw_input(\"enter int  with raw_input : \")\n",
    "print var\n",
    "print type(var) # daata type"
   ]
  },
  {
   "cell_type": "code",
   "execution_count": 3,
   "metadata": {},
   "outputs": [
    {
     "name": "stdout",
     "output_type": "stream",
     "text": [
      "enter float with input :  12.4563\n",
      "12.4563\n",
      "<type 'float'>\n",
      "enter float  with raw_input : 12.4563\n",
      "12.4563\n",
      "<type 'str'>\n"
     ]
    }
   ],
   "source": [
    "# wap read float data by input & raw_input\n",
    "var = input(\"enter float with input :  \")\n",
    "print var\n",
    "print type(var) # daata type\n",
    "var = raw_input(\"enter float  with raw_input : \")\n",
    "print var\n",
    "print type(var) # daata type"
   ]
  },
  {
   "cell_type": "code",
   "execution_count": 4,
   "metadata": {},
   "outputs": [
    {
     "name": "stdout",
     "output_type": "stream",
     "text": [
      "enter complex with input :  34 + 56j\n",
      "(34+56j)\n",
      "<type 'complex'>\n",
      "enter complex  with raw_input : 34 + 56j\n",
      "34 + 56j\n",
      "<type 'str'>\n"
     ]
    }
   ],
   "source": [
    "# wap read complex data by input & raw_input\n",
    "var = input(\"enter complex with input :  \")\n",
    "print var\n",
    "print type(var) # daata type\n",
    "var = raw_input(\"enter complex  with raw_input : \")\n",
    "print var\n",
    "print type(var) # daata type"
   ]
  },
  {
   "cell_type": "code",
   "execution_count": 5,
   "metadata": {},
   "outputs": [
    {
     "name": "stdout",
     "output_type": "stream",
     "text": [
      "enter bool with input :  True\n",
      "True\n",
      "<type 'bool'>\n",
      "enter bool  with raw_input : True\n",
      "True\n",
      "<type 'str'>\n"
     ]
    }
   ],
   "source": [
    "# wap read bool data by input & raw_input\n",
    "var = input(\"enter bool with input :  \")\n",
    "print var\n",
    "print type(var) # daata type\n",
    "var = raw_input(\"enter bool  with raw_input : \")\n",
    "print var\n",
    "print type(var) # daata type"
   ]
  },
  {
   "cell_type": "code",
   "execution_count": 6,
   "metadata": {},
   "outputs": [
    {
     "name": "stdout",
     "output_type": "stream",
     "text": [
      "enter None with input :  None\n",
      "None\n",
      "<type 'NoneType'>\n",
      "enter NOne  with raw_input : None\n",
      "None\n",
      "<type 'str'>\n"
     ]
    }
   ],
   "source": [
    "# wap read None data by input & raw_input\n",
    "var = input(\"enter None with input :  \")\n",
    "print var\n",
    "print type(var) # daata type\n",
    "var = raw_input(\"enter NOne  with raw_input : \")\n",
    "print var\n",
    "print type(var) # daata type"
   ]
  },
  {
   "cell_type": "code",
   "execution_count": 7,
   "metadata": {},
   "outputs": [
    {
     "name": "stdout",
     "output_type": "stream",
     "text": [
      "enter str with input :  \"python\"\n",
      "python\n",
      "<type 'str'>\n",
      "enter str  with raw_input : \"python\"\n",
      "\"python\"\n",
      "<type 'str'>\n"
     ]
    }
   ],
   "source": [
    "# str\n",
    "# wap read str data by input & raw_input\n",
    "var = input(\"enter str with input :  \")\n",
    "print var\n",
    "print type(var) # daata type\n",
    "var = raw_input(\"enter str  with raw_input : \")\n",
    "print var\n",
    "print type(var) # daata type"
   ]
  },
  {
   "cell_type": "code",
   "execution_count": null,
   "metadata": {},
   "outputs": [],
   "source": [
    "# list  , tuple , set , dict"
   ]
  }
 ],
 "metadata": {
  "kernelspec": {
   "display_name": "Python 2",
   "language": "python",
   "name": "python2"
  },
  "language_info": {
   "codemirror_mode": {
    "name": "ipython",
    "version": 2
   },
   "file_extension": ".py",
   "mimetype": "text/x-python",
   "name": "python",
   "nbconvert_exporter": "python",
   "pygments_lexer": "ipython2",
   "version": "2.7.16"
  }
 },
 "nbformat": 4,
 "nbformat_minor": 2
}
