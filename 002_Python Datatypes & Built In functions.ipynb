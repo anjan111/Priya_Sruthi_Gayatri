{
 "cells": [
  {
   "cell_type": "code",
   "execution_count": 1,
   "metadata": {},
   "outputs": [
    {
     "name": "stdout",
     "output_type": "stream",
     "text": [
      "<type 'int'>\n",
      "<type 'int'>\n",
      "<type 'int'>\n"
     ]
    }
   ],
   "source": [
    "# Datatypes\n",
    "'''\n",
    "==>>> Used for to specify the what type of data holded variable\n",
    "1. Fundamental Datatypes\n",
    "\n",
    "##########  A single variable can hold single data element\n",
    "a. int ---------->>>  numbers --> real number\n",
    "b. float--------->>>>  real / decimal pointing number\n",
    "c. complex------->>>>  real + img (  X + Yj)\n",
    "d. bool----------->>>>  True   / False\n",
    "e. Nonetype  ----->>>>   None\n",
    "\n",
    "2. Sequencial Datatypes\n",
    "##########  A single variable can hold multiple data elements\n",
    "a. str ---> collection of characters------> \"\"\n",
    "b. list---> Collection of data elements --> []\n",
    "c. tuple---> Collection of data elements--> ()\n",
    "d. set---> Collection of data elements----> {}\n",
    "f. dict---> Collection of data items------> {}\n",
    "\n",
    "'''\n",
    "# type()-->> to know the datatype of any variable\n",
    "# int \n",
    "var = -234\n",
    "print type(var)\n",
    "var = 0\n",
    "print type(var)\n",
    "var = 456\n",
    "print type(var)\n",
    "\n"
   ]
  },
  {
   "cell_type": "code",
   "execution_count": 2,
   "metadata": {},
   "outputs": [
    {
     "name": "stdout",
     "output_type": "stream",
     "text": [
      "<type 'float'>\n",
      "<type 'float'>\n",
      "<type 'float'>\n"
     ]
    }
   ],
   "source": [
    "# float\n",
    "var = -23.84\n",
    "print type(var)\n",
    "var = 0.0\n",
    "print type(var)\n",
    "var = 456.986\n",
    "print type(var)\n"
   ]
  },
  {
   "cell_type": "code",
   "execution_count": 3,
   "metadata": {},
   "outputs": [
    {
     "name": "stdout",
     "output_type": "stream",
     "text": [
      "<type 'complex'>\n",
      "<type 'int'>\n"
     ]
    }
   ],
   "source": [
    "var = 0 + 0j\n",
    "print type(var)\n",
    "var = 0 + 0\n",
    "print type(var)"
   ]
  },
  {
   "cell_type": "code",
   "execution_count": 4,
   "metadata": {},
   "outputs": [
    {
     "name": "stdout",
     "output_type": "stream",
     "text": [
      "<type 'complex'>\n",
      "<type 'complex'>\n",
      "<type 'complex'>\n",
      "<type 'complex'>\n"
     ]
    }
   ],
   "source": [
    "# complex\n",
    "var = 0 + 0j\n",
    "print type(var)\n",
    "var = 10 + 0j\n",
    "print type(var)\n",
    "var = 100 + 20j\n",
    "print type(var)\n",
    "var =  10j\n",
    "print type(var)"
   ]
  },
  {
   "cell_type": "code",
   "execution_count": 5,
   "metadata": {},
   "outputs": [
    {
     "name": "stdout",
     "output_type": "stream",
     "text": [
      "<type 'bool'>\n",
      "<type 'bool'>\n",
      "<type 'NoneType'>\n"
     ]
    }
   ],
   "source": [
    "# bool  \n",
    "var =  True\n",
    "print type(var)\n",
    "var =  False\n",
    "print type(var)\n",
    "\n",
    "# Nonetype\n",
    "var = None  # C/ C++  --->> NULL  \n",
    "print type(var)\n"
   ]
  },
  {
   "cell_type": "code",
   "execution_count": 1,
   "metadata": {},
   "outputs": [
    {
     "name": "stdout",
     "output_type": "stream",
     "text": [
      "<type 'str'>\n"
     ]
    }
   ],
   "source": [
    "# str\n",
    "var = \"Python\"\n",
    "print type(var)"
   ]
  },
  {
   "cell_type": "code",
   "execution_count": 2,
   "metadata": {},
   "outputs": [
    {
     "name": "stdout",
     "output_type": "stream",
     "text": [
      "<type 'list'>\n"
     ]
    }
   ],
   "source": [
    "# list\n",
    "var = [12 , 3.34 ,4+5j] \n",
    "print type(var)"
   ]
  },
  {
   "cell_type": "code",
   "execution_count": 3,
   "metadata": {},
   "outputs": [
    {
     "name": "stdout",
     "output_type": "stream",
     "text": [
      "<type 'tuple'>\n"
     ]
    }
   ],
   "source": [
    "# tuple\n",
    "var = (12,3.34 ,4+5j)\n",
    "print type(var)"
   ]
  },
  {
   "cell_type": "code",
   "execution_count": 4,
   "metadata": {},
   "outputs": [
    {
     "name": "stdout",
     "output_type": "stream",
     "text": [
      "<type 'set'>\n"
     ]
    }
   ],
   "source": [
    "# set  --> {}\n",
    "var = {12,3.34 ,4+5j}\n",
    "print type(var)"
   ]
  },
  {
   "cell_type": "code",
   "execution_count": 6,
   "metadata": {},
   "outputs": [
    {
     "name": "stdout",
     "output_type": "stream",
     "text": [
      "<type 'dict'>\n"
     ]
    }
   ],
   "source": [
    "# dict  ---> {item1, item2,item3}\n",
    "# item ---->  key  : value\n",
    "var = {34 : \"priya\" , 56 : \"Sruthi\" ,67 : \"anjan\"}\n",
    "print type(var)"
   ]
  },
  {
   "cell_type": "code",
   "execution_count": null,
   "metadata": {},
   "outputs": [],
   "source": []
  },
  {
   "cell_type": "code",
   "execution_count": null,
   "metadata": {},
   "outputs": [],
   "source": []
  }
 ],
 "metadata": {
  "kernelspec": {
   "display_name": "Python 2",
   "language": "python",
   "name": "python2"
  },
  "language_info": {
   "codemirror_mode": {
    "name": "ipython",
    "version": 2
   },
   "file_extension": ".py",
   "mimetype": "text/x-python",
   "name": "python",
   "nbconvert_exporter": "python",
   "pygments_lexer": "ipython2",
   "version": "2.7.16"
  }
 },
 "nbformat": 4,
 "nbformat_minor": 2
}
